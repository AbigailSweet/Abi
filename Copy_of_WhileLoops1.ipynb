{
  "cells": [
    {
      "cell_type": "markdown",
      "metadata": {
        "id": "view-in-github",
        "colab_type": "text"
      },
      "source": [
        "<a href=\"https://colab.research.google.com/github/AbigailSweet/Abi/blob/main/Copy_of_WhileLoops1.ipynb\" target=\"_parent\"><img src=\"https://colab.research.google.com/assets/colab-badge.svg\" alt=\"Open In Colab\"/></a>"
      ]
    },
    {
      "cell_type": "markdown",
      "metadata": {
        "id": "OWGIE_ptimyf"
      },
      "source": [
        "# While loops\n",
        "\n",
        "---\n"
      ]
    },
    {
      "cell_type": "markdown",
      "metadata": {
        "id": "Kjh4DVogizl5"
      },
      "source": [
        "There are many situations when an external event (such as an input from the user or finding an invalid data value) will be the thing that will cause the loop to stop.\n",
        "\n",
        "A while loop allows us to say \"repeat these instructions while something has not yet happened, or repeat these instruction while a particular state exists\"\n",
        "\n",
        "For example, we want to ask a user to enter some positive numbers to be added to a total. They will indicate that there are no more numbers by entering -1.\n",
        "\n"
      ]
    },
    {
      "cell_type": "code",
      "execution_count": null,
      "metadata": {
        "id": "HieVx4BrtJlU"
      },
      "outputs": [],
      "source": [
        "# initialise a total to 0\n",
        "# read the first number\n",
        "# add the number to the total and keep reading next number and adding to total until -1 entered\n",
        "\n",
        "def running_total():\n",
        "    total = 0\n",
        "    num = int(input(\"Enter a number, or type -1 to stop\"))\n",
        "    while num != -1:\n",
        "        total = total + num\n",
        "        num = int(input(\"Enter a number, or type -1 to stop\"))\n",
        "    print(total)\n",
        "\n",
        "running_total()"
      ]
    },
    {
      "cell_type": "markdown",
      "metadata": {
        "id": "X8pROiEYtKbA"
      },
      "source": [
        "**Another example**\n",
        "\n",
        "We want to take a number from the user and keep dividing it by 2 until the answer is 1 or less, then to print the number of times it was divided. Try it out. If you enter 8 then the answer should be 3, if you enter 6 the answer will also be 3."
      ]
    },
    {
      "cell_type": "code",
      "execution_count": null,
      "metadata": {
        "colab": {
          "base_uri": "https://localhost:8080/"
        },
        "id": "eL9nJORbtTUb",
        "outputId": "e2c55fa9-c154-45e8-fedc-35d2b524d47e"
      },
      "outputs": [
        {
          "name": "stdout",
          "output_type": "stream",
          "text": [
            "Enter a number to be processed3\n",
            "Your number was divided 2 times\n"
          ]
        }
      ],
      "source": [
        "def div_by_two():\n",
        "  num = int(input(\"Enter a number to be processed\"))\n",
        "  number_times_divided = 0\n",
        "  while num > 1:\n",
        "    number_times_divided = number_times_divided + 1\n",
        "    num = num/2\n",
        "  print(\"Your number was divided\", number_times_divided, \"times\") \n",
        "   \n",
        "div_by_two()"
      ]
    },
    {
      "cell_type": "markdown",
      "metadata": {
        "id": "jKqqk9LstW83"
      },
      "source": [
        "*Here are some more examples of use of while loops.*\n",
        "\n",
        "### Ensuring valid input  \n",
        "When reading from the keyboard it is important to ensure that the user only enters valid data. You can do this in a number of ways but a while loop can be used to make the user keep entering data until they enter something that is valid."
      ]
    },
    {
      "cell_type": "code",
      "execution_count": null,
      "metadata": {
        "colab": {
          "base_uri": "https://localhost:8080/"
        },
        "id": "7_CoIBfluIUG",
        "outputId": "4f92cf8a-4afe-414a-be29-b87bae02915b"
      },
      "outputs": [
        {
          "name": "stdout",
          "output_type": "stream",
          "text": [
            "You must type a number above 0\n",
            "Enter a positive number-8\n",
            "You must type a number above 0\n",
            "Enter a positive number8\n",
            "Thank you for typing the number 8\n"
          ]
        }
      ],
      "source": [
        "# read a number from the user\n",
        "# check that the number is a positive integer.  If not, display error messages\n",
        "# keep reading until a positive integer is read\n",
        "\n",
        "def positive_num():\n",
        "  number = -1\n",
        "  while number < 0:\n",
        "    print(\"You must type a number above 0\")\n",
        "    number = int(input(\"Enter a positive number\"))\n",
        "  print(\"Thank you for typing the number\", number)\n",
        "\n",
        "positive_num()"
      ]
    },
    {
      "cell_type": "markdown",
      "metadata": {
        "id": "YiO-WgJ8zzjp"
      },
      "source": [
        "### Take home points\n",
        "\n",
        "* An algorithm is the method for solving a particular problem (e.g. getting the right sort of number, selecting a message depending on input, calculating a new figure, etc)\n",
        "* A while loop will keep repeating while the given condition is TRUE\n",
        "* As soon as the condition becomes false the loop will stop executing\n",
        "* We use while loops when we don't necessarily know how many times a loop will need to repeat, but we do know under what conditions it does need to repeat."
      ]
    },
    {
      "cell_type": "markdown",
      "metadata": {
        "id": "4CS8CNrmQUbO"
      },
      "source": [
        "---\n",
        "### Exercise 1 - get a valid username\n",
        "\n",
        "Write a function called **get_username()** which will:  \n",
        "\n",
        "*  assign the value False to a boolean variable called **valid**  \n",
        "*  start a while loop that will continue to loop while `valid` is False  \n",
        "*  in the loop:  ask the user to enter a **username**,  if the `username` is \"user\" assign the value True to `valid`, otherwise print the message \"Incorrect user name\"   \n",
        "*  after the loop, display the message \"Welcome `username`, you will now be asked to enter your password  \n",
        "\n",
        "Test input:  \n",
        "username   \n",
        "user  \n",
        "\n",
        "Expected output:  \n",
        "Incorrect username  \n",
        "Welcome user you will now be asked to enter your password  "
      ]
    },
    {
      "cell_type": "code",
      "execution_count": null,
      "metadata": {
        "colab": {
          "base_uri": "https://localhost:8080/"
        },
        "id": "nwq55T5eRv7_",
        "outputId": "dbdc7603-c757-46ca-c592-a542c4b6e1f4"
      },
      "outputs": [
        {
          "name": "stdout",
          "output_type": "stream",
          "text": [
            "enter a usernamedee\n",
            "invaild username\n",
            "enter a usernameabi\n",
            "invaild username\n",
            "enter a usernamepoppy\n",
            "invaild username\n",
            "enter a usernameuser\n"
          ]
        }
      ],
      "source": [
        "def get_username():\n",
        "  vaild = False \n",
        "  while vaild == False:\n",
        "    username = input(\"enter a username\")\n",
        "    if username == \"user\": \n",
        "      vaild = True\n",
        "    else: \n",
        "      print (\"invaild username\")\n",
        "get_username()"
      ]
    },
    {
      "cell_type": "markdown",
      "metadata": {
        "id": "FXN6-MtQRwb9"
      },
      "source": [
        "---\n",
        "### Exercise 2 - get a valid passcode  \n",
        "\n",
        "Write a function called **get_passcode()** which will:  \n",
        "\n",
        "*  assign the value False to a boolean variable called **valid**  \n",
        "*  start a while loop that will continue to loop while `valid` is False  \n",
        "*  in the loop:  ask the user to enter a **passcode**, if the `passcode` is \"9876\" assign the value True to `valid`, otherwise print the message \"Incorrect passcode\"  \n",
        "*  after the loop, display the message \"Passcode accepted\"    \n",
        "\n",
        "Test input:  \n",
        "1234   \n",
        "9876  \n",
        "\n",
        "Expected output:  \n",
        "Incorrect passcode  \n",
        "Passcode accepted  "
      ]
    },
    {
      "cell_type": "code",
      "execution_count": null,
      "metadata": {
        "id": "a0Z_ACOiSxsP"
      },
      "outputs": [],
      "source": [
        "def get_passcode():\n",
        "  vaild = False\n",
        "  while vaild == False:\n",
        "    passcode = int(input(\"enter passcode\"))\n",
        "    if passcode == 9876:\n",
        "      vaild = True\n",
        "    else:\n",
        "      print (\"incorrect passcode\")\n",
        "    print (\"passcode accepted\")\n",
        "get_passcode()"
      ]
    },
    {
      "cell_type": "markdown",
      "metadata": {
        "id": "DMeDXd7TS0ar"
      },
      "source": [
        "---\n",
        "### Exercise 3 - single digit input  \n",
        "\n",
        "Write a function called **get_digit()** which will:  \n",
        "\n",
        "*  assign the value False to a boolean variable called **valid_digit**  \n",
        "*  use a while loop to repeatedly ask the user to enter a single digit until the value they enter is less than 10     \n",
        "*  in the loop:  ask the user to enter a **single_digit**, if the `single_digit` is less than 10 assign the value True to `valid`, otherwise print the message \"Not a digit\"  \n",
        "*  after the loop, display the message \"Single digit entered\"    \n",
        "\n",
        "Test input:  \n",
        "10   \n",
        "9  \n",
        "\n",
        "Expected output:  \n",
        "Not a digit  \n",
        "Single digit entered  "
      ]
    },
    {
      "cell_type": "code",
      "execution_count": null,
      "metadata": {
        "colab": {
          "base_uri": "https://localhost:8080/"
        },
        "id": "4oGXPcmqTtVN",
        "outputId": "4803999a-5464-4072-8637-e03a1d68672e"
      },
      "outputs": [
        {
          "output_type": "stream",
          "name": "stdout",
          "text": [
            "enter a digit10\n",
            "not a digit\n",
            "enter a digit9\n",
            "Single digit entered\n"
          ]
        }
      ],
      "source": [
        "def get_digit():\n",
        "  valid_digit = False\n",
        "  while valid_digit ==False:\n",
        "    digit = int(input(\"enter a digit\"))\n",
        "    if digit < 10:\n",
        "      valid_digit = True\n",
        "    else:\n",
        "      print (\"not a digit\")\n",
        "  print (\"Single digit entered\")\n",
        "get_digit()"
      ]
    },
    {
      "cell_type": "markdown",
      "metadata": {
        "id": "o80s4nzfi37X"
      },
      "source": [
        "---\n",
        "### Exercise 4 - positive number input \n",
        "\n",
        "Write a function called **positive_number()** which will:\n",
        "*  ask the user to enter a **number**, the message should indicate that it must be a positive number  \n",
        "*  if `number` is not positive **(ie. less than 1)** show an error message and ask user to re-enter the `number` \n",
        "*  when the `number` is positive, print the `number`\n",
        "\n",
        "Test input:  \n",
        "-1\n",
        "0\n",
        "1\n",
        "\n",
        "Expected output:  \n",
        "It must be a positive number, try again  \n",
        "It must be a positive number, try again  \n",
        "1  "
      ]
    },
    {
      "cell_type": "code",
      "execution_count": null,
      "metadata": {
        "id": "BmZjI8PzwdT-",
        "colab": {
          "base_uri": "https://localhost:8080/",
          "height": 356
        },
        "outputId": "f539c461-7ead-451c-e333-ecce5627abda"
      },
      "outputs": [
        {
          "metadata": {
            "tags": null
          },
          "name": "stdout",
          "output_type": "stream",
          "text": [
            "it must be a postive number\n",
            "it must be a postive number\n"
          ]
        },
        {
          "output_type": "error",
          "ename": "KeyboardInterrupt",
          "evalue": "ignored",
          "traceback": [
            "\u001b[0;31m---------------------------------------------------------------------------\u001b[0m",
            "\u001b[0;31mKeyboardInterrupt\u001b[0m                         Traceback (most recent call last)",
            "\u001b[0;32m<ipython-input-11-0b1ef9657c4d>\u001b[0m in \u001b[0;36m<module>\u001b[0;34m\u001b[0m\n\u001b[1;32m     11\u001b[0m       \u001b[0mpositive\u001b[0m \u001b[0;34m=\u001b[0m \u001b[0;32mTrue\u001b[0m\u001b[0;34m\u001b[0m\u001b[0;34m\u001b[0m\u001b[0m\n\u001b[1;32m     12\u001b[0m   \u001b[0mprint\u001b[0m \u001b[0;34m(\u001b[0m\u001b[0mnumber\u001b[0m\u001b[0;34m)\u001b[0m\u001b[0;34m\u001b[0m\u001b[0;34m\u001b[0m\u001b[0m\n\u001b[0;32m---> 13\u001b[0;31m \u001b[0mpositive_number\u001b[0m\u001b[0;34m(\u001b[0m\u001b[0;34m)\u001b[0m\u001b[0;34m\u001b[0m\u001b[0;34m\u001b[0m\u001b[0m\n\u001b[0m",
            "\u001b[0;32m<ipython-input-11-0b1ef9657c4d>\u001b[0m in \u001b[0;36mpositive_number\u001b[0;34m()\u001b[0m\n\u001b[1;32m      7\u001b[0m       \u001b[0mnumber\u001b[0m \u001b[0;34m=\u001b[0m \u001b[0mint\u001b[0m\u001b[0;34m(\u001b[0m\u001b[0minput\u001b[0m\u001b[0;34m(\u001b[0m\u001b[0;34m\"enter a number over 0\"\u001b[0m\u001b[0;34m)\u001b[0m\u001b[0;34m)\u001b[0m\u001b[0;34m\u001b[0m\u001b[0;34m\u001b[0m\u001b[0m\n\u001b[1;32m      8\u001b[0m  \u001b[0;31m#     print (\"it must be a postive number\")\u001b[0m\u001b[0;34m\u001b[0m\u001b[0;34m\u001b[0m\u001b[0;34m\u001b[0m\u001b[0m\n\u001b[0;32m----> 9\u001b[0;31m     \u001b[0;32melif\u001b[0m \u001b[0mnumber\u001b[0m \u001b[0;34m>\u001b[0m \u001b[0;36m1\u001b[0m\u001b[0;34m:\u001b[0m\u001b[0;34m\u001b[0m\u001b[0;34m\u001b[0m\u001b[0m\n\u001b[0m\u001b[1;32m     10\u001b[0m \u001b[0;31m#      print (number)\u001b[0m\u001b[0;34m\u001b[0m\u001b[0;34m\u001b[0m\u001b[0;34m\u001b[0m\u001b[0m\n\u001b[1;32m     11\u001b[0m       \u001b[0mpositive\u001b[0m \u001b[0;34m=\u001b[0m \u001b[0;32mTrue\u001b[0m\u001b[0;34m\u001b[0m\u001b[0;34m\u001b[0m\u001b[0m\n",
            "\u001b[0;31mKeyboardInterrupt\u001b[0m: "
          ]
        }
      ],
      "source": [
        "def positive_number():\n",
        "  number = int(input(\"enter a number over 0\"))\n",
        "  positive = False\n",
        "  while positive == False:\n",
        "    if number < 1:\n",
        "      print (\"it must be a postive number\")\n",
        "      number = int(input(\"enter a number over 0\"))\n",
        "    elif number > 1:\n",
        "      positive = True\n",
        "  print (number)\n",
        "positive_number()"
      ]
    },
    {
      "cell_type": "markdown",
      "metadata": {
        "id": "xPJfd9lUyULa"
      },
      "source": [
        "---\n",
        "### Exercise 5 - getting a number within limits \n",
        "\n",
        "Write a function called **test_limits()** which will:\n",
        "\n",
        "*  ask the user to enter a number between **1 and 31**\n",
        "*  if the number entered is less than 1 or more than 31, display the error message \"Number out of limits\"  \n",
        "*  continue asking the user until a valid input is given \n",
        "*  when a valid number is given, display the message \"Your number was `number`\" and end the program \n",
        "\n",
        "Test input:  \n",
        "40  \n",
        "50  \n",
        "30  \n",
        "\n",
        "Expected output:  \n",
        "Number out of limits  \n",
        "Number out of limits  \n",
        "Your number was 30  \n"
      ]
    },
    {
      "cell_type": "code",
      "execution_count": null,
      "metadata": {
        "id": "MVxhTY6zzq8k",
        "colab": {
          "base_uri": "https://localhost:8080/"
        },
        "outputId": "f667b56b-86be-45aa-dc46-d475ec8db17c"
      },
      "outputs": [
        {
          "output_type": "stream",
          "name": "stdout",
          "text": [
            "Choose a number between 1-3140\n",
            "Number out of limits\n",
            "Choose a number between 1-3150\n",
            "Number out of limits\n",
            "Choose a number between 1-3130\n",
            "Your number was 30\n"
          ]
        }
      ],
      "source": [
        "def test_limit():\n",
        "  valid = False\n",
        "  while valid == False:\n",
        "    number = int(input(\"Choose a number between 1-31\"))\n",
        "    if number <1 or number >31:\n",
        "      print(\"Number out of limits\")\n",
        "    else:\n",
        "      valid = True\n",
        "  print(\"Your number was\", number)\n",
        "test_limit()"
      ]
    },
    {
      "cell_type": "markdown",
      "metadata": {
        "id": "WcHiG9AlUPdr"
      },
      "source": [
        "---\n",
        "### Exercise 6 - getting a number outside range\n",
        "\n",
        "Write a function called **test_outlier()** which will:\n",
        "\n",
        "*  ask the user to enter a **number** that is NOT between 40 and 50  \n",
        "*  if the `number` entered is between 40 and 50 (including both 40 and 50, display the error message \"This is not an outlier\"\n",
        "*  continue asking the user until a valid `number` is given\n",
        "*  when a valid `number` is given, display the message \"You have entered an outlier\" and end the program  \n",
        "\n",
        "Test input:  \n",
        "34  \n",
        "\n",
        "Expected output:  \n",
        "You have entered an outlier  \n",
        "\n",
        "Test input:  \n",
        "44  \n",
        "50  \n",
        "40  \n",
        "34  \n",
        "\n",
        "Expected output:  \n",
        "This is not an outlier  \n",
        "This is not an outlier  \n",
        "This is not an outlier  \n",
        "You have entered an outlier  "
      ]
    },
    {
      "cell_type": "code",
      "execution_count": null,
      "metadata": {
        "id": "PqvtQXYnUQ8E",
        "colab": {
          "base_uri": "https://localhost:8080/"
        },
        "outputId": "8b288111-037d-4bad-822f-828c1a9cd554"
      },
      "outputs": [
        {
          "output_type": "stream",
          "name": "stdout",
          "text": [
            "Choose a number not between 40 and 50 44\n",
            "This is not outlier\n",
            "Choose a number not between 40 and 50 50\n",
            "This is not outlier\n",
            "Choose a number not between 40 and 50 40\n",
            "This is not outlier\n",
            "Choose a number not between 40 and 50 34\n",
            "You have entered an outlier\n"
          ]
        }
      ],
      "source": [
        "def test_outlier():\n",
        "  vaild = False\n",
        "  while vaild  == False:\n",
        "    number = int(input(\"Choose a number not between 40 and 50 \"))\n",
        "    if number >= 40 and number <= 50:\n",
        "      print (\"This is not outlier\")\n",
        "    else:\n",
        "      vaild = True\n",
        "  print(\"You have entered an outlier\")\n",
        "test_outlier()"
      ]
    },
    {
      "cell_type": "markdown",
      "metadata": {
        "id": "53kjOj7nzri1"
      },
      "source": [
        "---\n",
        "### Exercise 7 - multiplying a number to be greater than 20,000\n",
        "\n",
        "Write a function called **increase_to_twenty_thousand()** that will:\n",
        "\n",
        "*  ask the user to input a **number**\n",
        "*  multiply given `number` by itself repeatedly, printing its value each time it changes, until the  number has become greater (>) than 20,000\n",
        "\n",
        "Test input:  \n",
        "5\n",
        "\n",
        "Expected output:  \n",
        "5   \n",
        "25  \n",
        "125  \n",
        "625  \n",
        "3125  \n",
        "15625  \n",
        "78125  \n",
        " "
      ]
    },
    {
      "cell_type": "code",
      "execution_count": null,
      "metadata": {
        "id": "9vzat0W21tNA",
        "colab": {
          "base_uri": "https://localhost:8080/",
          "height": 339
        },
        "outputId": "a760b4e0-645a-43ad-87ec-770f570bc889"
      },
      "outputs": [
        {
          "name": "stdout",
          "output_type": "stream",
          "text": [
            "enter a number5\n"
          ]
        },
        {
          "output_type": "error",
          "ename": "UnboundLocalError",
          "evalue": "ignored",
          "traceback": [
            "\u001b[0;31m---------------------------------------------------------------------------\u001b[0m",
            "\u001b[0;31mUnboundLocalError\u001b[0m                         Traceback (most recent call last)",
            "\u001b[0;32m<ipython-input-20-16ce51d6f3c2>\u001b[0m in \u001b[0;36m<module>\u001b[0;34m\u001b[0m\n\u001b[1;32m      8\u001b[0m     \u001b[0;32mif\u001b[0m \u001b[0msquare\u001b[0m \u001b[0;34m>\u001b[0m \u001b[0;36m20000\u001b[0m\u001b[0;34m:\u001b[0m\u001b[0;34m\u001b[0m\u001b[0;34m\u001b[0m\u001b[0m\n\u001b[1;32m      9\u001b[0m       \u001b[0mmax\u001b[0m \u001b[0;34m=\u001b[0m \u001b[0;32mTrue\u001b[0m\u001b[0;34m\u001b[0m\u001b[0;34m\u001b[0m\u001b[0m\n\u001b[0;32m---> 10\u001b[0;31m \u001b[0mincrease_to_twenty_thousand\u001b[0m\u001b[0;34m(\u001b[0m\u001b[0;34m)\u001b[0m\u001b[0;34m\u001b[0m\u001b[0;34m\u001b[0m\u001b[0m\n\u001b[0m",
            "\u001b[0;32m<ipython-input-20-16ce51d6f3c2>\u001b[0m in \u001b[0;36mincrease_to_twenty_thousand\u001b[0;34m()\u001b[0m\n\u001b[1;32m      4\u001b[0m   \u001b[0mmax\u001b[0m \u001b[0;34m=\u001b[0m \u001b[0;32mFalse\u001b[0m\u001b[0;34m\u001b[0m\u001b[0;34m\u001b[0m\u001b[0m\n\u001b[1;32m      5\u001b[0m   \u001b[0;32mwhile\u001b[0m \u001b[0mmax\u001b[0m \u001b[0;34m==\u001b[0m\u001b[0;32mFalse\u001b[0m\u001b[0;34m:\u001b[0m\u001b[0;34m\u001b[0m\u001b[0;34m\u001b[0m\u001b[0m\n\u001b[0;32m----> 6\u001b[0;31m     \u001b[0msquare\u001b[0m \u001b[0;34m=\u001b[0m \u001b[0mnumber\u001b[0m \u001b[0;34m*\u001b[0m \u001b[0msquare\u001b[0m\u001b[0;34m\u001b[0m\u001b[0;34m\u001b[0m\u001b[0m\n\u001b[0m\u001b[1;32m      7\u001b[0m     \u001b[0mprint\u001b[0m \u001b[0;34m(\u001b[0m\u001b[0msquare\u001b[0m\u001b[0;34m)\u001b[0m\u001b[0;34m\u001b[0m\u001b[0;34m\u001b[0m\u001b[0m\n\u001b[1;32m      8\u001b[0m     \u001b[0;32mif\u001b[0m \u001b[0msquare\u001b[0m \u001b[0;34m>\u001b[0m \u001b[0;36m20000\u001b[0m\u001b[0;34m:\u001b[0m\u001b[0;34m\u001b[0m\u001b[0;34m\u001b[0m\u001b[0m\n",
            "\u001b[0;31mUnboundLocalError\u001b[0m: local variable 'square' referenced before assignment"
          ]
        }
      ],
      "source": [
        "def increase_to_twenty_thousand():\n",
        "  number = int(input(\"enter a number\"))\n",
        "  square = 1\n",
        "  max = False\n",
        "  while max ==False:\n",
        "    square = number * square\n",
        "    print (square)\n",
        "    if square > 20000:\n",
        "      max = True\n",
        "increase_to_twenty_thousand()"
      ]
    },
    {
      "cell_type": "markdown",
      "metadata": {
        "id": "wepL2Ufj1uvT"
      },
      "source": [
        "---\n",
        "### Exercise 8 - even and odds \n",
        "\n",
        "Write a function called **get_even_number()** that:\n",
        "\n",
        "*  asks the user to input an even number (divisible by 2)\n",
        "*  if an odd number is given, display message \"That number is odd\"\n",
        "*  once valid input given (even number), display message \"Thanks, that number is even\"\n",
        "\n",
        "Test input:  \n",
        "3  \n",
        "1  \n",
        "2  \n",
        "\n",
        "Expected output:  \n",
        "That number is odd  \n",
        "That number is odd  \n",
        "Thanks, that number is even  \n",
        "\n"
      ]
    },
    {
      "cell_type": "code",
      "execution_count": null,
      "metadata": {
        "id": "KME9Qfcs45yJ",
        "colab": {
          "base_uri": "https://localhost:8080/"
        },
        "outputId": "10af2a78-f287-433a-f553-e160ca0cfc5c"
      },
      "outputs": [
        {
          "output_type": "stream",
          "name": "stdout",
          "text": [
            "enter an even number3\n",
            "That number is odd\n",
            "enter an even number1\n",
            "That number is odd\n",
            "enter an even number2\n",
            "Thanks, that number is even\n"
          ]
        }
      ],
      "source": [
        "def get_even_number():\n",
        "  valid = False\n",
        "  while valid ==False:\n",
        "    number = int(input(\"enter an even number\"))\n",
        "    if number %2 != 0:\n",
        "      print(\"That number is odd\")\n",
        "    else:\n",
        "      valid = True\n",
        "  print(\"Thanks, that number is even\")\n",
        "get_even_number()"
      ]
    },
    {
      "cell_type": "markdown",
      "metadata": {
        "id": "-p3LVygZwd6R"
      },
      "source": [
        "### Exercise 9 - menu choice \n",
        "\n",
        "Write a function called **show_special_numbers()** which will:\n",
        "\n",
        "*  display the following menu \n",
        "\n",
        "*What value would you like to see?*\n",
        "\n",
        "1. *Pi*\n",
        "2. *Plank’s constant*\n",
        "3. *E*\n",
        "4. *Square root of 2*\n",
        "5. *Quit the program*\n",
        "\n",
        "*  ask the user to input which value they would like to see by typing a number between 1 - 5 \n",
        "*  read and process the choice while the user selects anything other than 5 (Quit the program)\n",
        "\n",
        "To process the choice:  \n",
        "* if the number is 1 - print 3.14159265359\n",
        "* if the number is 2 - print 6.62607004 × 10-34 (in Python this would be written 6.62607004E-34\n",
        "* if the number is 3 - print 2.71828\n",
        "* if the number is 4 - print 1.414\n",
        "* if the number is 5 - print the message (\"Thank you for using this program\")\n",
        "* if the number is anything else - print \"Invalid choice\"\n",
        "\n",
        "The program will print the message associated with the menu choice and will then display the menu again and ask the user to select a choice.  \n",
        "\n",
        "When the user enters 5, the program should stop repeating.\n",
        "\n",
        "Test input:    \n",
        "1  \n",
        "4  \n",
        "6  \n",
        "5  \n",
        "\n",
        "Expected output:    \n",
        "3.14159265359  \n",
        "1.414  \n",
        "Invalid choice  \n",
        "Thank you for using this program  "
      ]
    },
    {
      "cell_type": "code",
      "execution_count": 30,
      "metadata": {
        "id": "EZdR70D-yP_Y",
        "colab": {
          "base_uri": "https://localhost:8080/",
          "height": 467
        },
        "outputId": "828e29a3-3150-44a6-f6ea-85310bfcb61c"
      },
      "outputs": [
        {
          "metadata": {
            "tags": null
          },
          "name": "stdout",
          "output_type": "stream",
          "text": [
            "what value would you like\n",
            "1.Pi\n",
            "2.Plank's constant\n",
            "3.E\n",
            "4.Square root of 2\n",
            "5.Thank you for using this program\n",
            "invalid choice\n"
          ]
        },
        {
          "output_type": "error",
          "ename": "KeyboardInterrupt",
          "evalue": "ignored",
          "traceback": [
            "\u001b[0;31m---------------------------------------------------------------------------\u001b[0m",
            "\u001b[0;31mKeyboardInterrupt\u001b[0m                         Traceback (most recent call last)",
            "\u001b[0;32m<ipython-input-30-b6ba67e456b9>\u001b[0m in \u001b[0;36m<module>\u001b[0;34m\u001b[0m\n\u001b[1;32m     22\u001b[0m     \u001b[0;32melse\u001b[0m\u001b[0;34m:\u001b[0m\u001b[0;34m\u001b[0m\u001b[0;34m\u001b[0m\u001b[0m\n\u001b[1;32m     23\u001b[0m       \u001b[0mprint\u001b[0m\u001b[0;34m(\u001b[0m\u001b[0;34m\"invalid choice\"\u001b[0m\u001b[0;34m)\u001b[0m\u001b[0;34m\u001b[0m\u001b[0;34m\u001b[0m\u001b[0m\n\u001b[0;32m---> 24\u001b[0;31m \u001b[0mshow_special_numbers\u001b[0m\u001b[0;34m(\u001b[0m\u001b[0;34m)\u001b[0m\u001b[0;34m\u001b[0m\u001b[0;34m\u001b[0m\u001b[0m\n\u001b[0m",
            "\u001b[0;32m<ipython-input-30-b6ba67e456b9>\u001b[0m in \u001b[0;36mshow_special_numbers\u001b[0;34m()\u001b[0m\n\u001b[1;32m      8\u001b[0m   \u001b[0mquit\u001b[0m \u001b[0;34m=\u001b[0m \u001b[0;32mFalse\u001b[0m\u001b[0;34m\u001b[0m\u001b[0;34m\u001b[0m\u001b[0m\n\u001b[1;32m      9\u001b[0m   \u001b[0;32mwhile\u001b[0m \u001b[0mquit\u001b[0m \u001b[0;34m==\u001b[0m \u001b[0;32mFalse\u001b[0m\u001b[0;34m:\u001b[0m\u001b[0;34m\u001b[0m\u001b[0;34m\u001b[0m\u001b[0m\n\u001b[0;32m---> 10\u001b[0;31m     \u001b[0mnumber\u001b[0m \u001b[0;34m=\u001b[0m \u001b[0mint\u001b[0m\u001b[0;34m(\u001b[0m\u001b[0minput\u001b[0m\u001b[0;34m(\u001b[0m\u001b[0;34m\"enter a number between\"\u001b[0m\u001b[0;34m)\u001b[0m\u001b[0;34m)\u001b[0m\u001b[0;34m\u001b[0m\u001b[0;34m\u001b[0m\u001b[0m\n\u001b[0m\u001b[1;32m     11\u001b[0m     \u001b[0;32mif\u001b[0m \u001b[0mnumber\u001b[0m \u001b[0;34m==\u001b[0m \u001b[0;36m1\u001b[0m\u001b[0;34m:\u001b[0m\u001b[0;34m\u001b[0m\u001b[0;34m\u001b[0m\u001b[0m\n\u001b[1;32m     12\u001b[0m       \u001b[0mprint\u001b[0m\u001b[0;34m(\u001b[0m\u001b[0;34m\"3.14159265359\"\u001b[0m\u001b[0;34m)\u001b[0m\u001b[0;34m\u001b[0m\u001b[0;34m\u001b[0m\u001b[0m\n",
            "\u001b[0;32m/usr/local/lib/python3.7/dist-packages/ipykernel/kernelbase.py\u001b[0m in \u001b[0;36mraw_input\u001b[0;34m(self, prompt)\u001b[0m\n\u001b[1;32m    861\u001b[0m             \u001b[0mself\u001b[0m\u001b[0;34m.\u001b[0m\u001b[0m_parent_ident\u001b[0m\u001b[0;34m,\u001b[0m\u001b[0;34m\u001b[0m\u001b[0;34m\u001b[0m\u001b[0m\n\u001b[1;32m    862\u001b[0m             \u001b[0mself\u001b[0m\u001b[0;34m.\u001b[0m\u001b[0m_parent_header\u001b[0m\u001b[0;34m,\u001b[0m\u001b[0;34m\u001b[0m\u001b[0;34m\u001b[0m\u001b[0m\n\u001b[0;32m--> 863\u001b[0;31m             \u001b[0mpassword\u001b[0m\u001b[0;34m=\u001b[0m\u001b[0;32mFalse\u001b[0m\u001b[0;34m,\u001b[0m\u001b[0;34m\u001b[0m\u001b[0;34m\u001b[0m\u001b[0m\n\u001b[0m\u001b[1;32m    864\u001b[0m         )\n\u001b[1;32m    865\u001b[0m \u001b[0;34m\u001b[0m\u001b[0m\n",
            "\u001b[0;32m/usr/local/lib/python3.7/dist-packages/ipykernel/kernelbase.py\u001b[0m in \u001b[0;36m_input_request\u001b[0;34m(self, prompt, ident, parent, password)\u001b[0m\n\u001b[1;32m    902\u001b[0m             \u001b[0;32mexcept\u001b[0m \u001b[0mKeyboardInterrupt\u001b[0m\u001b[0;34m:\u001b[0m\u001b[0;34m\u001b[0m\u001b[0;34m\u001b[0m\u001b[0m\n\u001b[1;32m    903\u001b[0m                 \u001b[0;31m# re-raise KeyboardInterrupt, to truncate traceback\u001b[0m\u001b[0;34m\u001b[0m\u001b[0;34m\u001b[0m\u001b[0;34m\u001b[0m\u001b[0m\n\u001b[0;32m--> 904\u001b[0;31m                 \u001b[0;32mraise\u001b[0m \u001b[0mKeyboardInterrupt\u001b[0m\u001b[0;34m(\u001b[0m\u001b[0;34m\"Interrupted by user\"\u001b[0m\u001b[0;34m)\u001b[0m \u001b[0;32mfrom\u001b[0m \u001b[0;32mNone\u001b[0m\u001b[0;34m\u001b[0m\u001b[0;34m\u001b[0m\u001b[0m\n\u001b[0m\u001b[1;32m    905\u001b[0m             \u001b[0;32mexcept\u001b[0m \u001b[0mException\u001b[0m \u001b[0;32mas\u001b[0m \u001b[0me\u001b[0m\u001b[0;34m:\u001b[0m\u001b[0;34m\u001b[0m\u001b[0;34m\u001b[0m\u001b[0m\n\u001b[1;32m    906\u001b[0m                 \u001b[0mself\u001b[0m\u001b[0;34m.\u001b[0m\u001b[0mlog\u001b[0m\u001b[0;34m.\u001b[0m\u001b[0mwarning\u001b[0m\u001b[0;34m(\u001b[0m\u001b[0;34m\"Invalid Message:\"\u001b[0m\u001b[0;34m,\u001b[0m \u001b[0mexc_info\u001b[0m\u001b[0;34m=\u001b[0m\u001b[0;32mTrue\u001b[0m\u001b[0;34m)\u001b[0m\u001b[0;34m\u001b[0m\u001b[0;34m\u001b[0m\u001b[0m\n",
            "\u001b[0;31mKeyboardInterrupt\u001b[0m: Interrupted by user"
          ]
        }
      ],
      "source": [
        "def show_special_numbers():\n",
        "  print (\"what value would you like\")\n",
        "  print(\"1.Pi\")\n",
        "  print(\"2.Plank's constant\")\n",
        "  print(\"3.E\")\n",
        "  print(\"4.Square root of 2\")\n",
        "  print(\"5.Thank you for using this program\")\n",
        "  quit = False\n",
        "  while quit == False:\n",
        "    number = int(input(\"enter a number between\"))\n",
        "    if number == 1: \n",
        "      print(\"3.14159265359\")\n",
        "    elif number == 2:\n",
        "      print(\"6.62607004\")\n",
        "    elif number == 3:\n",
        "      print(\"2.71828\")\n",
        "    elif number == 4:\n",
        "      print(\"1.414\")\n",
        "    elif number == 5:\n",
        "      print(\"Thank you for using this program\")\n",
        "      quit = True\n",
        "    else:\n",
        "      print(\"invalid choice\")\n",
        "show_special_numbers()"
      ]
    },
    {
      "cell_type": "markdown",
      "metadata": {
        "id": "Ig_WrlmPWG4v"
      },
      "source": [
        "---\n",
        "### Exercise 10 - Guess the number  \n",
        "\n",
        "Write a function called **guess_number(number)** which will:  \n",
        "\n",
        "Ask the user to guess the number within 6 attempts.  \n",
        "\n",
        "The function will be given a random number (called `number`) and should use a while loop that will continue while the user has not guessed correctly and has had less than 6 attempts (don't forget to set the number of attempts to 0 before the loop and increment it every time a guess is made).  \n",
        "\n",
        "In the loop:  \n",
        "\n",
        "*  ask the user to enter a **guess**  \n",
        "*  if the `guess` is greater than the `number` print \"Too high\", if less than the number print \"Too low\" or if correct print \"You guessed it\"  \n",
        "*  count the `attempt`  \n",
        "\n",
        "After the loop if the maximum attempts has been reached, print \"Too many attempts\"\n",
        "\n",
        "\n"
      ]
    },
    {
      "cell_type": "code",
      "execution_count": 42,
      "metadata": {
        "id": "7qagArrHWHGV",
        "colab": {
          "base_uri": "https://localhost:8080/"
        },
        "outputId": "3a722e4a-93d4-49ce-97dc-431ab52deb9b"
      },
      "outputs": [
        {
          "output_type": "stream",
          "name": "stdout",
          "text": [
            "12\n",
            "enter the number67\n",
            "too high\n",
            "enter the number12\n",
            "you guessed it\n"
          ]
        }
      ],
      "source": [
        "from random import randint\n",
        "\n",
        "def guess_number(comp_number):\n",
        "  # add your code below here, remembering to indent\n",
        "    attempt = 6\n",
        "    correct = False\n",
        "    print(comp_number)\n",
        "    while correct == False and attempt >0:\n",
        "      user_number = int(input(\"enter the number\"))\n",
        "      attempt -=1\n",
        "      if user_number > comp_number:\n",
        "        print(\"too high\")\n",
        "      elif user_number < comp_number:\n",
        "        print(\"too low\")\n",
        "      else:\n",
        "        print(\"you guessed it\")\n",
        "        correct = True\n",
        "guess_number(randint(1,50))"
      ]
    }
  ],
  "metadata": {
    "colab": {
      "provenance": [],
      "include_colab_link": true
    },
    "kernelspec": {
      "display_name": "Python 3",
      "name": "python3"
    }
  },
  "nbformat": 4,
  "nbformat_minor": 0
}